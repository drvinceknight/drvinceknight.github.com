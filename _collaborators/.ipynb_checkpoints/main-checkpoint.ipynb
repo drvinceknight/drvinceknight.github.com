{
 "cells": [
  {
   "cell_type": "code",
   "execution_count": 1,
   "id": "9f384bc3-65c7-4891-a526-aa87dcbc3aeb",
   "metadata": {},
   "outputs": [],
   "source": []
  },
  {
   "cell_type": "code",
   "execution_count": 2,
   "id": "86612113-a1ce-4401-9073-c3b19c531da4",
   "metadata": {},
   "outputs": [],
   "source": []
  },
  {
   "cell_type": "code",
   "execution_count": 20,
   "id": "e6277083-6baf-45d8-bc5d-be0734c22721",
   "metadata": {},
   "outputs": [],
   "source": [
    "import pathlib\n",
    "\n",
    "here = pathlib.Path(\"./\")\n",
    "\n",
    "for file in here.glob(\"*.yml\"):\n",
    "    contents = file.read_text()\n",
    "    contents = contents.replace(\"url\", \"direct_url\")\n",
    "    with open(f\"{file.stem}.md\", \"w\") as f:\n",
    "        f.write(\"---\\n\")\n",
    "        f.write(\"layout: collaborator\\n\")\n",
    "        f.write(contents)\n",
    "        f.write(\"---\\n\")"
   ]
  },
  {
   "cell_type": "code",
   "execution_count": 8,
   "id": "1b8dae4f-4719-4e7c-8432-c0333b672229",
   "metadata": {},
   "outputs": [
    {
     "data": {
      "text/plain": [
       "'e-kleinman'"
      ]
     },
     "execution_count": 8,
     "metadata": {},
     "output_type": "execute_result"
    }
   ],
   "source": [
    "file.read"
   ]
  },
  {
   "cell_type": "code",
   "execution_count": null,
   "id": "3ab13216-98ac-4fb4-8757-906c962c00f9",
   "metadata": {},
   "outputs": [],
   "source": []
  }
 ],
 "metadata": {
  "kernelspec": {
   "display_name": "Python 3 (ipykernel)",
   "language": "python",
   "name": "python3"
  },
  "language_info": {
   "codemirror_mode": {
    "name": "ipython",
    "version": 3
   },
   "file_extension": ".py",
   "mimetype": "text/x-python",
   "name": "python",
   "nbconvert_exporter": "python",
   "pygments_lexer": "ipython3",
   "version": "3.10.11"
  }
 },
 "nbformat": 4,
 "nbformat_minor": 5
}
